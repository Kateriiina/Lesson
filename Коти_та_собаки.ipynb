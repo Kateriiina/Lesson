{
  "nbformat": 4,
  "nbformat_minor": 0,
  "metadata": {
    "colab": {
      "provenance": [],
      "authorship_tag": "ABX9TyNn3IiyDxAYtXip8wvJCobE",
      "include_colab_link": true
    },
    "kernelspec": {
      "name": "python3",
      "display_name": "Python 3"
    },
    "language_info": {
      "name": "python"
    }
  },
  "cells": [
    {
      "cell_type": "markdown",
      "metadata": {
        "id": "view-in-github",
        "colab_type": "text"
      },
      "source": [
        "<a href=\"https://colab.research.google.com/github/Kateriiina/Lesson/blob/main/%D0%9A%D0%BE%D1%82%D0%B8_%D1%82%D0%B0_%D1%81%D0%BE%D0%B1%D0%B0%D0%BA%D0%B8.ipynb\" target=\"_parent\"><img src=\"https://colab.research.google.com/assets/colab-badge.svg\" alt=\"Open In Colab\"/></a>"
      ]
    },
    {
      "cell_type": "code",
      "source": [
        "import numpy as np\n",
        "import tensorflow as tf\n",
        "import tensorflow_datasets as tfds\n",
        "from tensorflow.keras.preprocessing.image import load_img, img_to_array\n",
        "from tensorflow.keras.layers import Dense, GlobalAveragePooling2D, Dropout"
      ],
      "metadata": {
        "id": "YBQiTLJRt_Qp"
      },
      "execution_count": 42,
      "outputs": []
    },
    {
      "cell_type": "code",
      "source": [
        "train, _ = tfds.load('cats_vs_dogs', split=['train[:100%]'], with_info=True, as_supervised=True)"
      ],
      "metadata": {
        "id": "-Alpo9BXX1xS"
      },
      "execution_count": 43,
      "outputs": []
    },
    {
      "cell_type": "code",
      "source": [
        "SIZE = 224\n",
        "def resize_image(img, label):\n",
        "  img = tf.cast(img, tf.float32)\n",
        "  img = tf.image.resize(img,(SIZE, SIZE))\n",
        "  img = img / 255.0\n",
        "  return img, label"
      ],
      "metadata": {
        "id": "I5dh637CaxHi"
      },
      "execution_count": 44,
      "outputs": []
    },
    {
      "cell_type": "code",
      "source": [
        "train_resized = train[0].map(resize_image)\n",
        "train_batches = train_resized.shuffle(1000).batch(16)"
      ],
      "metadata": {
        "id": "AtYzERkyb5pj"
      },
      "execution_count": 45,
      "outputs": []
    },
    {
      "cell_type": "code",
      "source": [
        "base_layers = tf.keras.applications.MobileNetV2(input_shape =(SIZE, SIZE, 3), include_top=False)\n",
        "base_layers.trainable = False"
      ],
      "metadata": {
        "id": "_vg_8bv_cLya"
      },
      "execution_count": 46,
      "outputs": []
    },
    {
      "cell_type": "code",
      "source": [
        "model = tf.keras.Sequential([\n",
        "    base_layers,\n",
        "    GlobalAveragePooling2D(),\n",
        "    Dropout(0.2),\n",
        "    Dense(1)\n",
        "])\n",
        "model.compile(optimizer='adam', loss=tf.keras.losses.BinaryCrossentropy(from_logits=True), metrics=['accuracy'])"
      ],
      "metadata": {
        "id": "Z-xT_lQ9ecbD"
      },
      "execution_count": 47,
      "outputs": []
    },
    {
      "cell_type": "code",
      "source": [
        "model.fit(train_batches, epochs=3)"
      ],
      "metadata": {
        "colab": {
          "base_uri": "https://localhost:8080/"
        },
        "id": "ViF2HUKge25K",
        "outputId": "0361bbc7-b9c9-479f-af61-b8a2cf751863"
      },
      "execution_count": 48,
      "outputs": [
        {
          "output_type": "stream",
          "name": "stdout",
          "text": [
            "Epoch 1/3\n",
            "1454/1454 [==============================] - 834s 570ms/step - loss: 0.0685 - accuracy: 0.9740\n",
            "Epoch 2/3\n",
            "1454/1454 [==============================] - 811s 555ms/step - loss: 0.0457 - accuracy: 0.9833\n",
            "Epoch 3/3\n",
            "1454/1454 [==============================] - 811s 556ms/step - loss: 0.0408 - accuracy: 0.9848\n"
          ]
        },
        {
          "output_type": "execute_result",
          "data": {
            "text/plain": [
              "<keras.callbacks.History at 0x7d3fea005d50>"
            ]
          },
          "metadata": {},
          "execution_count": 48
        }
      ]
    }
  ]
}