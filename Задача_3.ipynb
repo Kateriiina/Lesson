{
  "nbformat": 4,
  "nbformat_minor": 0,
  "metadata": {
    "colab": {
      "provenance": [],
      "authorship_tag": "ABX9TyPBBymVqB1HIdkrDB8m834v",
      "include_colab_link": true
    },
    "kernelspec": {
      "name": "python3",
      "display_name": "Python 3"
    },
    "language_info": {
      "name": "python"
    }
  },
  "cells": [
    {
      "cell_type": "markdown",
      "metadata": {
        "id": "view-in-github",
        "colab_type": "text"
      },
      "source": [
        "<a href=\"https://colab.research.google.com/github/Kateriiina/Lesson/blob/main/%D0%97%D0%B0%D0%B4%D0%B0%D1%87%D0%B0_3.ipynb\" target=\"_parent\"><img src=\"https://colab.research.google.com/assets/colab-badge.svg\" alt=\"Open In Colab\"/></a>"
      ]
    },
    {
      "cell_type": "code",
      "execution_count": 3,
      "metadata": {
        "colab": {
          "base_uri": "https://localhost:8080/"
        },
        "id": "I4A8quBMzcgm",
        "outputId": "557e9e9e-e5b4-4d17-94e7-c5ad65fad9a8"
      },
      "outputs": [
        {
          "output_type": "stream",
          "name": "stdout",
          "text": [
            "Вагові коефіцієнти після навчання: [-1.3  -0.25]\n",
            "Біас після навчання: 6.0\n",
            "Для вхідних даних [1. 1.], персептрон класифікує як 1 (справжній клас: 1)\n",
            "Для вхідних даних [9.4 6.4], персептрон класифікує як -1 (справжній клас: -1)\n",
            "Для вхідних даних [2.5 2.1], персептрон класифікує як 1 (справжній клас: 1)\n",
            "Для вхідних даних [8.  7.7], персептрон класифікує як -1 (справжній клас: -1)\n",
            "Для вхідних даних [0.5 2.2], персептрон класифікує як 1 (справжній клас: 1)\n",
            "Для вхідних даних [7.9 8.4], персептрон класифікує як -1 (справжній клас: -1)\n",
            "Для вхідних даних [7. 7.], персептрон класифікує як -1 (справжній клас: -1)\n",
            "Для вхідних даних [2.8 0.8], персептрон класифікує як 1 (справжній клас: 1)\n",
            "Для вхідних даних [1.2 3. ], персептрон класифікує як 1 (справжній клас: 1)\n",
            "Для вхідних даних [7.8 6.1], персептрон класифікує як -1 (справжній клас: -1)\n"
          ]
        }
      ],
      "source": [
        "import numpy as np\n",
        "\n",
        "class Perceptron:\n",
        "    def __init__(self, learning_rate=0.25, n_iterations=1000):\n",
        "        self.learning_rate = learning_rate\n",
        "        self.n_iterations = n_iterations\n",
        "        self.weights = None\n",
        "        self.bias = None\n",
        "\n",
        "    def train(self, X, y):\n",
        "        n_samples, n_features = X.shape\n",
        "        self.weights = np.zeros(n_features)\n",
        "        self.bias = 0\n",
        "\n",
        "        for _ in range(self.n_iterations):\n",
        "            for i in range(n_samples):\n",
        "                prediction = self.predict(X[i])\n",
        "                update = self.learning_rate * (y[i] - prediction)\n",
        "                self.weights += update * X[i]\n",
        "                self.bias += update\n",
        "\n",
        "    def predict(self, x):\n",
        "        return 1 if np.dot(x, self.weights) + self.bias > 0 else -1\n",
        "\n",
        "# Вхідні дані\n",
        "X = np.array([\n",
        "    [1.0, 1.0],\n",
        "    [9.4, 6.4],\n",
        "    [2.5, 2.1],\n",
        "    [8.0, 7.7],\n",
        "    [0.5, 2.2],\n",
        "    [7.9, 8.4],\n",
        "    [7.0, 7.0],\n",
        "    [2.8, 0.8],\n",
        "    [1.2, 3.0],\n",
        "    [7.8, 6.1]\n",
        "])\n",
        "\n",
        "# Вихідні дані (класи)\n",
        "y = np.array([1, -1, 1, -1, 1, -1, -1, 1, 1, -1])\n",
        "\n",
        "# Створюємо та тренуємо персептрон\n",
        "perceptron = Perceptron(learning_rate=0.25, n_iterations=1000)\n",
        "perceptron.train(X, y)\n",
        "\n",
        "# Виводимо вагові коефіцієнти та результати класифікації\n",
        "print(\"Вагові коефіцієнти після навчання:\", perceptron.weights)\n",
        "print(\"Біас після навчання:\", perceptron.bias)\n",
        "\n",
        "# Передбачення для кожного вхідного зразка\n",
        "predictions = np.array([perceptron.predict(x) for x in X])\n",
        "\n",
        "# Вивід результатів\n",
        "for i in range(len(predictions)):\n",
        "    print(f\"Для вхідних даних {X[i]}, персептрон класифікує як {predictions[i]} (справжній клас: {y[i]})\")\n"
      ]
    }
  ]
}