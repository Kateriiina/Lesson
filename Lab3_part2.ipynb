{
  "nbformat": 4,
  "nbformat_minor": 0,
  "metadata": {
    "colab": {
      "provenance": [],
      "authorship_tag": "ABX9TyP59snPAIcq3r3SIrD+LNaf",
      "include_colab_link": true
    },
    "kernelspec": {
      "name": "python3",
      "display_name": "Python 3"
    },
    "language_info": {
      "name": "python"
    }
  },
  "cells": [
    {
      "cell_type": "markdown",
      "metadata": {
        "id": "view-in-github",
        "colab_type": "text"
      },
      "source": [
        "<a href=\"https://colab.research.google.com/github/Kateriiina/Lesson/blob/main/Lab3_part2.ipynb\" target=\"_parent\"><img src=\"https://colab.research.google.com/assets/colab-badge.svg\" alt=\"Open In Colab\"/></a>"
      ]
    },
    {
      "cell_type": "code",
      "execution_count": 1,
      "metadata": {
        "id": "OIjygw47bYs8"
      },
      "outputs": [],
      "source": [
        "import numpy as np\n",
        "import pandas as pd\n",
        "import matplotlib.pyplot as plt\n",
        "from google.colab import drive\n",
        "from sklearn.preprocessing import MinMaxScaler\n",
        "from sklearn.model_selection import train_test_split\n",
        "from sklearn.tree import DecisionTreeClassifier\n",
        "from sklearn.metrics import accuracy_score, classification_report, ConfusionMatrixDisplay\n",
        "from sklearn.model_selection import GridSearchCV"
      ]
    },
    {
      "cell_type": "code",
      "source": [
        "from google.colab import drive\n",
        "drive.mount('/content/drive')"
      ],
      "metadata": {
        "colab": {
          "base_uri": "https://localhost:8080/"
        },
        "id": "jE3SG5TjbeLs",
        "outputId": "8fe8fc47-c12c-4424-d382-77dbeb3d74fe"
      },
      "execution_count": 2,
      "outputs": [
        {
          "output_type": "stream",
          "name": "stdout",
          "text": [
            "Mounted at /content/drive\n"
          ]
        }
      ]
    },
    {
      "cell_type": "code",
      "source": [
        "data = pd.read_csv('/content/drive/MyDrive/Datasets/ccFraud.csv')"
      ],
      "metadata": {
        "id": "mjcGCskWbl8C"
      },
      "execution_count": 3,
      "outputs": []
    },
    {
      "cell_type": "code",
      "source": [
        "df = pd.DataFrame(data)\n",
        "print(df)"
      ],
      "metadata": {
        "colab": {
          "base_uri": "https://localhost:8080/"
        },
        "id": "m1wu_aJ6br65",
        "outputId": "13a5fea5-c567-4171-ee65-ac9e81b1ca17"
      },
      "execution_count": 4,
      "outputs": [
        {
          "output_type": "stream",
          "name": "stdout",
          "text": [
            "           custID  gender  state  cardholder  balance  numTrans  numIntlTrans  \\\n",
            "0               1       1     35           1     3000         4            14   \n",
            "1               2       2      2           1        0         9             0   \n",
            "2               3       2      2           1        0        27             9   \n",
            "3               4       1     15           1        0        12             0   \n",
            "4               5       1     46           1        0        11            16   \n",
            "...           ...     ...    ...         ...      ...       ...           ...   \n",
            "9999995   9999996       1     37           1        0        10             0   \n",
            "9999996   9999997       1     16           1        0        33             2   \n",
            "9999997   9999998       1     24           1     9000        38             0   \n",
            "9999998   9999999       1     28           1     7000        20            19   \n",
            "9999999  10000000       1     23           1        0        13             0   \n",
            "\n",
            "         creditLine  fraudRisk  \n",
            "0                 2          0  \n",
            "1                18          0  \n",
            "2                16          0  \n",
            "3                 5          0  \n",
            "4                 7          0  \n",
            "...             ...        ...  \n",
            "9999995           9          0  \n",
            "9999996           4          0  \n",
            "9999997           8          0  \n",
            "9999998           6          0  \n",
            "9999999           7          0  \n",
            "\n",
            "[10000000 rows x 9 columns]\n"
          ]
        }
      ]
    },
    {
      "cell_type": "code",
      "source": [
        "# Зменшення розміру даних до 10 000\n",
        "df = df.sample(n=10000, random_state=42)"
      ],
      "metadata": {
        "id": "DnW9zOBZbvLT"
      },
      "execution_count": 5,
      "outputs": []
    },
    {
      "cell_type": "code",
      "source": [],
      "metadata": {
        "id": "bUxRIl0EhIIV"
      },
      "execution_count": null,
      "outputs": []
    },
    {
      "cell_type": "code",
      "source": [
        "# Стовпці для нормалізації\n",
        "columns_to_normalize = ['balance', 'numTrans','numIntlTrans', 'creditLine']\n",
        "\n",
        "scaler_minmax = MinMaxScaler().fit_transform(df[columns_to_normalize].values)\n",
        "credit = df.copy()\n",
        "credit[columns_to_normalize] = scaler_minmax\n",
        "\n",
        "# Результати нормалізації для порівняння\n",
        "print(\"\\nДані після мін-макс нормалізації:\")\n",
        "credit.head(10)"
      ],
      "metadata": {
        "colab": {
          "base_uri": "https://localhost:8080/",
          "height": 397
        },
        "id": "Q9DzRnzibzpK",
        "outputId": "0f0dad14-6e54-416f-9836-3dd26550c2f9"
      },
      "execution_count": 6,
      "outputs": [
        {
          "output_type": "stream",
          "name": "stdout",
          "text": [
            "\n",
            "Дані після мін-макс нормалізації:\n"
          ]
        },
        {
          "output_type": "execute_result",
          "data": {
            "text/plain": [
              "          custID  gender  state  cardholder   balance  numTrans  numIntlTrans  \\\n",
              "919213    919214       1     35           1  0.177997      1.00      0.066667   \n",
              "9467153  9467154       2     43           1  0.205698      0.03      0.000000   \n",
              "6585777  6585778       1     25           1  0.550242      0.01      0.000000   \n",
              "3878022  3878023       1     35           1  0.274264      0.43      0.000000   \n",
              "5537116  5537117       2     49           1  0.377113      0.18      0.000000   \n",
              "5893459  5893460       2     29           1  0.171415      0.20      0.100000   \n",
              "8653685  8653686       2      7           1  0.274264      0.54      0.000000   \n",
              "6880281  6880282       1      2           1  0.205698      0.41      0.000000   \n",
              "9478495  9478496       1      9           1  0.029518      0.13      0.083333   \n",
              "2930982  2930983       1     29           1  0.067160      0.17      0.000000   \n",
              "\n",
              "         creditLine  fraudRisk  \n",
              "919213     1.000000          1  \n",
              "9467153    0.054054          0  \n",
              "6585777    0.486486          1  \n",
              "3878022    0.081081          0  \n",
              "5537116    0.121622          0  \n",
              "5893459    0.040541          0  \n",
              "8653685    0.081081          0  \n",
              "6880281    0.054054          0  \n",
              "9478495    0.040541          0  \n",
              "2930982    0.067568          0  "
            ],
            "text/html": [
              "\n",
              "  <div id=\"df-5f1cebeb-1665-47a7-955d-fa456dcb6d75\" class=\"colab-df-container\">\n",
              "    <div>\n",
              "<style scoped>\n",
              "    .dataframe tbody tr th:only-of-type {\n",
              "        vertical-align: middle;\n",
              "    }\n",
              "\n",
              "    .dataframe tbody tr th {\n",
              "        vertical-align: top;\n",
              "    }\n",
              "\n",
              "    .dataframe thead th {\n",
              "        text-align: right;\n",
              "    }\n",
              "</style>\n",
              "<table border=\"1\" class=\"dataframe\">\n",
              "  <thead>\n",
              "    <tr style=\"text-align: right;\">\n",
              "      <th></th>\n",
              "      <th>custID</th>\n",
              "      <th>gender</th>\n",
              "      <th>state</th>\n",
              "      <th>cardholder</th>\n",
              "      <th>balance</th>\n",
              "      <th>numTrans</th>\n",
              "      <th>numIntlTrans</th>\n",
              "      <th>creditLine</th>\n",
              "      <th>fraudRisk</th>\n",
              "    </tr>\n",
              "  </thead>\n",
              "  <tbody>\n",
              "    <tr>\n",
              "      <th>919213</th>\n",
              "      <td>919214</td>\n",
              "      <td>1</td>\n",
              "      <td>35</td>\n",
              "      <td>1</td>\n",
              "      <td>0.177997</td>\n",
              "      <td>1.00</td>\n",
              "      <td>0.066667</td>\n",
              "      <td>1.000000</td>\n",
              "      <td>1</td>\n",
              "    </tr>\n",
              "    <tr>\n",
              "      <th>9467153</th>\n",
              "      <td>9467154</td>\n",
              "      <td>2</td>\n",
              "      <td>43</td>\n",
              "      <td>1</td>\n",
              "      <td>0.205698</td>\n",
              "      <td>0.03</td>\n",
              "      <td>0.000000</td>\n",
              "      <td>0.054054</td>\n",
              "      <td>0</td>\n",
              "    </tr>\n",
              "    <tr>\n",
              "      <th>6585777</th>\n",
              "      <td>6585778</td>\n",
              "      <td>1</td>\n",
              "      <td>25</td>\n",
              "      <td>1</td>\n",
              "      <td>0.550242</td>\n",
              "      <td>0.01</td>\n",
              "      <td>0.000000</td>\n",
              "      <td>0.486486</td>\n",
              "      <td>1</td>\n",
              "    </tr>\n",
              "    <tr>\n",
              "      <th>3878022</th>\n",
              "      <td>3878023</td>\n",
              "      <td>1</td>\n",
              "      <td>35</td>\n",
              "      <td>1</td>\n",
              "      <td>0.274264</td>\n",
              "      <td>0.43</td>\n",
              "      <td>0.000000</td>\n",
              "      <td>0.081081</td>\n",
              "      <td>0</td>\n",
              "    </tr>\n",
              "    <tr>\n",
              "      <th>5537116</th>\n",
              "      <td>5537117</td>\n",
              "      <td>2</td>\n",
              "      <td>49</td>\n",
              "      <td>1</td>\n",
              "      <td>0.377113</td>\n",
              "      <td>0.18</td>\n",
              "      <td>0.000000</td>\n",
              "      <td>0.121622</td>\n",
              "      <td>0</td>\n",
              "    </tr>\n",
              "    <tr>\n",
              "      <th>5893459</th>\n",
              "      <td>5893460</td>\n",
              "      <td>2</td>\n",
              "      <td>29</td>\n",
              "      <td>1</td>\n",
              "      <td>0.171415</td>\n",
              "      <td>0.20</td>\n",
              "      <td>0.100000</td>\n",
              "      <td>0.040541</td>\n",
              "      <td>0</td>\n",
              "    </tr>\n",
              "    <tr>\n",
              "      <th>8653685</th>\n",
              "      <td>8653686</td>\n",
              "      <td>2</td>\n",
              "      <td>7</td>\n",
              "      <td>1</td>\n",
              "      <td>0.274264</td>\n",
              "      <td>0.54</td>\n",
              "      <td>0.000000</td>\n",
              "      <td>0.081081</td>\n",
              "      <td>0</td>\n",
              "    </tr>\n",
              "    <tr>\n",
              "      <th>6880281</th>\n",
              "      <td>6880282</td>\n",
              "      <td>1</td>\n",
              "      <td>2</td>\n",
              "      <td>1</td>\n",
              "      <td>0.205698</td>\n",
              "      <td>0.41</td>\n",
              "      <td>0.000000</td>\n",
              "      <td>0.054054</td>\n",
              "      <td>0</td>\n",
              "    </tr>\n",
              "    <tr>\n",
              "      <th>9478495</th>\n",
              "      <td>9478496</td>\n",
              "      <td>1</td>\n",
              "      <td>9</td>\n",
              "      <td>1</td>\n",
              "      <td>0.029518</td>\n",
              "      <td>0.13</td>\n",
              "      <td>0.083333</td>\n",
              "      <td>0.040541</td>\n",
              "      <td>0</td>\n",
              "    </tr>\n",
              "    <tr>\n",
              "      <th>2930982</th>\n",
              "      <td>2930983</td>\n",
              "      <td>1</td>\n",
              "      <td>29</td>\n",
              "      <td>1</td>\n",
              "      <td>0.067160</td>\n",
              "      <td>0.17</td>\n",
              "      <td>0.000000</td>\n",
              "      <td>0.067568</td>\n",
              "      <td>0</td>\n",
              "    </tr>\n",
              "  </tbody>\n",
              "</table>\n",
              "</div>\n",
              "    <div class=\"colab-df-buttons\">\n",
              "\n",
              "  <div class=\"colab-df-container\">\n",
              "    <button class=\"colab-df-convert\" onclick=\"convertToInteractive('df-5f1cebeb-1665-47a7-955d-fa456dcb6d75')\"\n",
              "            title=\"Convert this dataframe to an interactive table.\"\n",
              "            style=\"display:none;\">\n",
              "\n",
              "  <svg xmlns=\"http://www.w3.org/2000/svg\" height=\"24px\" viewBox=\"0 -960 960 960\">\n",
              "    <path d=\"M120-120v-720h720v720H120Zm60-500h600v-160H180v160Zm220 220h160v-160H400v160Zm0 220h160v-160H400v160ZM180-400h160v-160H180v160Zm440 0h160v-160H620v160ZM180-180h160v-160H180v160Zm440 0h160v-160H620v160Z\"/>\n",
              "  </svg>\n",
              "    </button>\n",
              "\n",
              "  <style>\n",
              "    .colab-df-container {\n",
              "      display:flex;\n",
              "      gap: 12px;\n",
              "    }\n",
              "\n",
              "    .colab-df-convert {\n",
              "      background-color: #E8F0FE;\n",
              "      border: none;\n",
              "      border-radius: 50%;\n",
              "      cursor: pointer;\n",
              "      display: none;\n",
              "      fill: #1967D2;\n",
              "      height: 32px;\n",
              "      padding: 0 0 0 0;\n",
              "      width: 32px;\n",
              "    }\n",
              "\n",
              "    .colab-df-convert:hover {\n",
              "      background-color: #E2EBFA;\n",
              "      box-shadow: 0px 1px 2px rgba(60, 64, 67, 0.3), 0px 1px 3px 1px rgba(60, 64, 67, 0.15);\n",
              "      fill: #174EA6;\n",
              "    }\n",
              "\n",
              "    .colab-df-buttons div {\n",
              "      margin-bottom: 4px;\n",
              "    }\n",
              "\n",
              "    [theme=dark] .colab-df-convert {\n",
              "      background-color: #3B4455;\n",
              "      fill: #D2E3FC;\n",
              "    }\n",
              "\n",
              "    [theme=dark] .colab-df-convert:hover {\n",
              "      background-color: #434B5C;\n",
              "      box-shadow: 0px 1px 3px 1px rgba(0, 0, 0, 0.15);\n",
              "      filter: drop-shadow(0px 1px 2px rgba(0, 0, 0, 0.3));\n",
              "      fill: #FFFFFF;\n",
              "    }\n",
              "  </style>\n",
              "\n",
              "    <script>\n",
              "      const buttonEl =\n",
              "        document.querySelector('#df-5f1cebeb-1665-47a7-955d-fa456dcb6d75 button.colab-df-convert');\n",
              "      buttonEl.style.display =\n",
              "        google.colab.kernel.accessAllowed ? 'block' : 'none';\n",
              "\n",
              "      async function convertToInteractive(key) {\n",
              "        const element = document.querySelector('#df-5f1cebeb-1665-47a7-955d-fa456dcb6d75');\n",
              "        const dataTable =\n",
              "          await google.colab.kernel.invokeFunction('convertToInteractive',\n",
              "                                                    [key], {});\n",
              "        if (!dataTable) return;\n",
              "\n",
              "        const docLinkHtml = 'Like what you see? Visit the ' +\n",
              "          '<a target=\"_blank\" href=https://colab.research.google.com/notebooks/data_table.ipynb>data table notebook</a>'\n",
              "          + ' to learn more about interactive tables.';\n",
              "        element.innerHTML = '';\n",
              "        dataTable['output_type'] = 'display_data';\n",
              "        await google.colab.output.renderOutput(dataTable, element);\n",
              "        const docLink = document.createElement('div');\n",
              "        docLink.innerHTML = docLinkHtml;\n",
              "        element.appendChild(docLink);\n",
              "      }\n",
              "    </script>\n",
              "  </div>\n",
              "\n",
              "\n",
              "<div id=\"df-4d9ec75c-9ef0-4cd5-a234-9a65ce0d0dde\">\n",
              "  <button class=\"colab-df-quickchart\" onclick=\"quickchart('df-4d9ec75c-9ef0-4cd5-a234-9a65ce0d0dde')\"\n",
              "            title=\"Suggest charts.\"\n",
              "            style=\"display:none;\">\n",
              "\n",
              "<svg xmlns=\"http://www.w3.org/2000/svg\" height=\"24px\"viewBox=\"0 0 24 24\"\n",
              "     width=\"24px\">\n",
              "    <g>\n",
              "        <path d=\"M19 3H5c-1.1 0-2 .9-2 2v14c0 1.1.9 2 2 2h14c1.1 0 2-.9 2-2V5c0-1.1-.9-2-2-2zM9 17H7v-7h2v7zm4 0h-2V7h2v10zm4 0h-2v-4h2v4z\"/>\n",
              "    </g>\n",
              "</svg>\n",
              "  </button>\n",
              "\n",
              "<style>\n",
              "  .colab-df-quickchart {\n",
              "      --bg-color: #E8F0FE;\n",
              "      --fill-color: #1967D2;\n",
              "      --hover-bg-color: #E2EBFA;\n",
              "      --hover-fill-color: #174EA6;\n",
              "      --disabled-fill-color: #AAA;\n",
              "      --disabled-bg-color: #DDD;\n",
              "  }\n",
              "\n",
              "  [theme=dark] .colab-df-quickchart {\n",
              "      --bg-color: #3B4455;\n",
              "      --fill-color: #D2E3FC;\n",
              "      --hover-bg-color: #434B5C;\n",
              "      --hover-fill-color: #FFFFFF;\n",
              "      --disabled-bg-color: #3B4455;\n",
              "      --disabled-fill-color: #666;\n",
              "  }\n",
              "\n",
              "  .colab-df-quickchart {\n",
              "    background-color: var(--bg-color);\n",
              "    border: none;\n",
              "    border-radius: 50%;\n",
              "    cursor: pointer;\n",
              "    display: none;\n",
              "    fill: var(--fill-color);\n",
              "    height: 32px;\n",
              "    padding: 0;\n",
              "    width: 32px;\n",
              "  }\n",
              "\n",
              "  .colab-df-quickchart:hover {\n",
              "    background-color: var(--hover-bg-color);\n",
              "    box-shadow: 0 1px 2px rgba(60, 64, 67, 0.3), 0 1px 3px 1px rgba(60, 64, 67, 0.15);\n",
              "    fill: var(--button-hover-fill-color);\n",
              "  }\n",
              "\n",
              "  .colab-df-quickchart-complete:disabled,\n",
              "  .colab-df-quickchart-complete:disabled:hover {\n",
              "    background-color: var(--disabled-bg-color);\n",
              "    fill: var(--disabled-fill-color);\n",
              "    box-shadow: none;\n",
              "  }\n",
              "\n",
              "  .colab-df-spinner {\n",
              "    border: 2px solid var(--fill-color);\n",
              "    border-color: transparent;\n",
              "    border-bottom-color: var(--fill-color);\n",
              "    animation:\n",
              "      spin 1s steps(1) infinite;\n",
              "  }\n",
              "\n",
              "  @keyframes spin {\n",
              "    0% {\n",
              "      border-color: transparent;\n",
              "      border-bottom-color: var(--fill-color);\n",
              "      border-left-color: var(--fill-color);\n",
              "    }\n",
              "    20% {\n",
              "      border-color: transparent;\n",
              "      border-left-color: var(--fill-color);\n",
              "      border-top-color: var(--fill-color);\n",
              "    }\n",
              "    30% {\n",
              "      border-color: transparent;\n",
              "      border-left-color: var(--fill-color);\n",
              "      border-top-color: var(--fill-color);\n",
              "      border-right-color: var(--fill-color);\n",
              "    }\n",
              "    40% {\n",
              "      border-color: transparent;\n",
              "      border-right-color: var(--fill-color);\n",
              "      border-top-color: var(--fill-color);\n",
              "    }\n",
              "    60% {\n",
              "      border-color: transparent;\n",
              "      border-right-color: var(--fill-color);\n",
              "    }\n",
              "    80% {\n",
              "      border-color: transparent;\n",
              "      border-right-color: var(--fill-color);\n",
              "      border-bottom-color: var(--fill-color);\n",
              "    }\n",
              "    90% {\n",
              "      border-color: transparent;\n",
              "      border-bottom-color: var(--fill-color);\n",
              "    }\n",
              "  }\n",
              "</style>\n",
              "\n",
              "  <script>\n",
              "    async function quickchart(key) {\n",
              "      const quickchartButtonEl =\n",
              "        document.querySelector('#' + key + ' button');\n",
              "      quickchartButtonEl.disabled = true;  // To prevent multiple clicks.\n",
              "      quickchartButtonEl.classList.add('colab-df-spinner');\n",
              "      try {\n",
              "        const charts = await google.colab.kernel.invokeFunction(\n",
              "            'suggestCharts', [key], {});\n",
              "      } catch (error) {\n",
              "        console.error('Error during call to suggestCharts:', error);\n",
              "      }\n",
              "      quickchartButtonEl.classList.remove('colab-df-spinner');\n",
              "      quickchartButtonEl.classList.add('colab-df-quickchart-complete');\n",
              "    }\n",
              "    (() => {\n",
              "      let quickchartButtonEl =\n",
              "        document.querySelector('#df-4d9ec75c-9ef0-4cd5-a234-9a65ce0d0dde button');\n",
              "      quickchartButtonEl.style.display =\n",
              "        google.colab.kernel.accessAllowed ? 'block' : 'none';\n",
              "    })();\n",
              "  </script>\n",
              "</div>\n",
              "    </div>\n",
              "  </div>\n"
            ]
          },
          "metadata": {},
          "execution_count": 6
        }
      ]
    },
    {
      "cell_type": "code",
      "source": [
        "X = credit.drop(['custID', 'fraudRisk'], axis=1)\n",
        "y = credit['fraudRisk']\n",
        "X_train, X_test, y_train, y_test = train_test_split(X, y, test_size=0.3, random_state=42)"
      ],
      "metadata": {
        "id": "tnclx-xBb95k"
      },
      "execution_count": 7,
      "outputs": []
    },
    {
      "cell_type": "code",
      "source": [
        "# Побудова моделі з параметрами за замовчуванням\n",
        "tree_model = DecisionTreeClassifier(random_state=17)\n",
        "\n",
        "# Навчання моделі на тренувальних даних\n",
        "tree_model.fit(X_train, y_train)\n",
        "\n",
        "tree_pred = tree_model.predict(X_test)\n",
        "print(accuracy_score(y_test, tree_pred))\n",
        "print(classification_report(y_test, tree_pred))\n",
        "#plot_confusion_matrix(dg_tree, X_test, y_test, cmap = 'Green')\n",
        "\n",
        "disp = ConfusionMatrixDisplay.from_estimator(tree_model, X_test, y_test, cmap = plt.cm.Blues)\n",
        "#print(disp.confusion_matrix)"
      ],
      "metadata": {
        "colab": {
          "base_uri": "https://localhost:8080/",
          "height": 623
        },
        "id": "Y76ldzumcc6S",
        "outputId": "a91fa74e-b2e2-4ee8-90ca-a122cb4a376d"
      },
      "execution_count": 8,
      "outputs": [
        {
          "output_type": "stream",
          "name": "stdout",
          "text": [
            "0.943\n",
            "              precision    recall  f1-score   support\n",
            "\n",
            "           0       0.98      0.96      0.97      2835\n",
            "           1       0.48      0.58      0.53       165\n",
            "\n",
            "    accuracy                           0.94      3000\n",
            "   macro avg       0.73      0.77      0.75      3000\n",
            "weighted avg       0.95      0.94      0.95      3000\n",
            "\n"
          ]
        },
        {
          "output_type": "display_data",
          "data": {
            "text/plain": [
              "<Figure size 640x480 with 2 Axes>"
            ],
            "image/png": "[encoded data removed]"
          },
          "metadata": {}
        }
      ]
    },
    {
      "cell_type": "code",
      "source": [
        "\n",
        "# Задаємо параметри для пошуку\n",
        "param_grid = {'max_depth': [1, 2, 3, 5, 10], 'max_features': [2, 3, 5, 7]}\n",
        "\n",
        "# Пошук найкращих параметрів за допомогою крос-валідації\n",
        "grid_search = GridSearchCV(tree_model, param_grid, cv=5, n_jobs=-1, verbose=True)\n",
        "grid_search.fit(X_train, y_train)\n",
        "\n",
        "# Виведення найкращих параметрів та точності моделі\n",
        "print(\"Найкращі параметри:\", grid_search.best_params_)\n",
        "print(\"Точність моделі з найкращими параметрами:\", grid_search.best_score_)"
      ],
      "metadata": {
        "colab": {
          "base_uri": "https://localhost:8080/"
        },
        "id": "T__n6s9WcrNK",
        "outputId": "8a64b3fa-c449-412d-8b00-a922fd47c381"
      },
      "execution_count": 9,
      "outputs": [
        {
          "output_type": "stream",
          "name": "stdout",
          "text": [
            "Fitting 5 folds for each of 20 candidates, totalling 100 fits\n",
            "Найкращі параметри: {'max_depth': 3, 'max_features': 5}\n",
            "Точність моделі з найкращими параметрами: 0.9515714285714285\n"
          ]
        }
      ]
    },
    {
      "cell_type": "code",
      "source": [
        "#dg_tree_val = DecisionTreeClassifier(max_depth=10, max_features=50,random_state=17)\n",
        "\n",
        "# Побудова моделі з найкращими параметрами\n",
        "best_tree_model = DecisionTreeClassifier(max_depth=grid_search.best_params_['max_depth'], max_features=grid_search.best_params_['max_features'],random_state=17)\n",
        "\n",
        "# Навчання моделі на тренувальних даних\n",
        "best_tree_model.fit(X_train, y_train)\n",
        "\n",
        "treee_pred = best_tree_model.predict(X_test)\n",
        "print(accuracy_score(y_test, treee_pred))\n",
        "print(classification_report(y_test, treee_pred))\n",
        "#plot_confusion_matrix(dg_tree, X_test, y_test, cmap = 'Greens')\n"
      ],
      "metadata": {
        "colab": {
          "base_uri": "https://localhost:8080/"
        },
        "id": "3ZZzTLU6c8Ql",
        "outputId": "40904683-6f54-4c83-a938-3f0d0d4d599c"
      },
      "execution_count": 10,
      "outputs": [
        {
          "output_type": "stream",
          "name": "stdout",
          "text": [
            "0.9506666666666667\n",
            "              precision    recall  f1-score   support\n",
            "\n",
            "           0       0.97      0.98      0.97      2835\n",
            "           1       0.56      0.50      0.53       165\n",
            "\n",
            "    accuracy                           0.95      3000\n",
            "   macro avg       0.76      0.74      0.75      3000\n",
            "weighted avg       0.95      0.95      0.95      3000\n",
            "\n"
          ]
        }
      ]
    },
    {
      "cell_type": "code",
      "source": [
        "from sklearn.tree import plot_tree\n",
        "\n",
        "# Візуалізація дерева\n",
        "plt.figure(figsize=(10, 10))\n",
        "plot_tree(best_tree_model, filled=True)\n",
        "plt.show()"
      ],
      "metadata": {
        "colab": {
          "base_uri": "https://localhost:8080/",
          "height": 807
        },
        "id": "0cZmm3QEdC7Z",
        "outputId": "eb1ba7da-80d4-4e90-e541-d760122b6970"
      },
      "execution_count": 11,
      "outputs": [
        {
          "output_type": "display_data",
          "data": {
            "text/plain": [
              "<Figure size 1000x1000 with 1 Axes>"
            ],
            "image/png": "[encoded data removed]"
          },
          "metadata": {}
        }
      ]
    },
    {
      "cell_type": "code",
      "source": [
        "from sklearn import tree\n",
        "\n",
        "tree.plot_tree(best_tree_model, filled=True)\n",
        "plt.show()"
      ],
      "metadata": {
        "colab": {
          "base_uri": "https://localhost:8080/",
          "height": 406
        },
        "id": "wZgku6pGdW2T",
        "outputId": "907816a9-2a61-40fa-e7b5-50a81fbd769d"
      },
      "execution_count": 12,
      "outputs": [
        {
          "output_type": "display_data",
          "data": {
            "text/plain": [
              "<Figure size 640x480 with 1 Axes>"
            ],
            "image/png": "[encoded data removed]"
          },
          "metadata": {}
        }
      ]
    },
    {
      "cell_type": "code",
      "source": [
        "from sklearn.ensemble import RandomForestClassifier\n",
        "\n",
        "# Побудова моделі з параметрами за замовчуванням\n",
        "forest_model = RandomForestClassifier(random_state = 0)\n",
        "forest_model.fit(X_train, y_train)\n",
        "\n",
        "forest_pred = forest_model.predict(X_test)\n",
        "print(\"Score at the training set: {:.3f}\".format(forest_model.score(X_train, y_train)))\n",
        "print(\"Score at the test set: {:.3f}\".format(forest_model.score(X_test, y_test)))\n",
        "print(classification_report(y_test, forest_pred))\n",
        "#plot_confusion_matrix(forest_model, X_test, y_test, cmap = 'Greens')"
      ],
      "metadata": {
        "colab": {
          "base_uri": "https://localhost:8080/"
        },
        "id": "USuqCTxGdnQP",
        "outputId": "7de13a3b-ffd0-458a-c5f4-c2369a17d584"
      },
      "execution_count": 13,
      "outputs": [
        {
          "output_type": "stream",
          "name": "stdout",
          "text": [
            "Score at the training set: 0.999\n",
            "Score at the test set: 0.959\n",
            "              precision    recall  f1-score   support\n",
            "\n",
            "           0       0.97      0.99      0.98      2835\n",
            "           1       0.68      0.50      0.57       165\n",
            "\n",
            "    accuracy                           0.96      3000\n",
            "   macro avg       0.82      0.74      0.78      3000\n",
            "weighted avg       0.96      0.96      0.96      3000\n",
            "\n"
          ]
        }
      ]
    },
    {
      "cell_type": "code",
      "source": [
        "# Задаємо параметри для пошуку\n",
        "forest_params = {'n_estimators' : [10, 50, 100, 200]}\n",
        "\n",
        "forest_grid = GridSearchCV(forest_model, forest_params, cv=5, n_jobs=-1, verbose=True)\n",
        "forest_grid.fit(X_train, y_train)\n",
        "\n",
        "print(\"Best parameters are \", forest_grid.best_params_)\n",
        "print(\"Best score is \", forest_grid.best_score_)"
      ],
      "metadata": {
        "colab": {
          "base_uri": "https://localhost:8080/"
        },
        "id": "T4mr__wPdzhp",
        "outputId": "a19a1292-8157-456f-8374-499fe46df4b9"
      },
      "execution_count": 14,
      "outputs": [
        {
          "output_type": "stream",
          "name": "stdout",
          "text": [
            "Fitting 5 folds for each of 4 candidates, totalling 20 fits\n",
            "Best parameters are  {'n_estimators': 100}\n",
            "Best score is  0.9531428571428572\n"
          ]
        }
      ]
    },
    {
      "cell_type": "code",
      "source": [
        "# Побудова моделі з найкращим значенням параметру\n",
        "best_forest_model = RandomForestClassifier(n_estimators=200, random_state = 0)\n",
        "\n",
        "# Навчання моделі на тренувальних даних\n",
        "best_forest_model.fit(X_train, y_train)\n",
        "\n",
        "foresst_pred = best_forest_model.predict(X_test)\n",
        "print(accuracy_score(y_test, foresst_pred))\n",
        "print(classification_report(y_test, foresst_pred))\n",
        "#plot_confusion_matrix(forest_model_best, X_test, y_test, cmap = 'Greens')"
      ],
      "metadata": {
        "colab": {
          "base_uri": "https://localhost:8080/"
        },
        "id": "69HMsBe_ef4O",
        "outputId": "cdd43079-875c-4060-fa19-740391ab2cb9"
      },
      "execution_count": 17,
      "outputs": [
        {
          "output_type": "stream",
          "name": "stdout",
          "text": [
            "0.9596666666666667\n",
            "              precision    recall  f1-score   support\n",
            "\n",
            "           0       0.97      0.99      0.98      2835\n",
            "           1       0.68      0.50      0.58       165\n",
            "\n",
            "    accuracy                           0.96      3000\n",
            "   macro avg       0.83      0.74      0.78      3000\n",
            "weighted avg       0.96      0.96      0.96      3000\n",
            "\n"
          ]
        }
      ]
    },
    {
      "cell_type": "code",
      "source": [
        "# Визначення важливості ознак\n",
        "importance = best_tree_model.feature_importances_\n",
        "for i, val in enumerate(importance):\n",
        "    print(\"Ознака {}: {:.3f}\".format(i+1, val))"
      ],
      "metadata": {
        "colab": {
          "base_uri": "https://localhost:8080/"
        },
        "id": "bU8wRx1NfPnQ",
        "outputId": "a6a7c3ef-ccdb-4ca2-ede0-fa090de70c3e"
      },
      "execution_count": 24,
      "outputs": [
        {
          "output_type": "stream",
          "name": "stdout",
          "text": [
            "Ознака 1: 0.000\n",
            "Ознака 2: 0.000\n",
            "Ознака 3: 0.000\n",
            "Ознака 4: 0.684\n",
            "Ознака 5: 0.139\n",
            "Ознака 6: 0.000\n",
            "Ознака 7: 0.177\n"
          ]
        }
      ]
    },
    {
      "cell_type": "code",
      "source": [
        "from sklearn.svm import SVC\n",
        "\n",
        "# Побудова моделей з різними функціями ядра\n",
        "linear_model = SVC(kernel='linear')\n",
        "rbf_model = SVC(kernel='rbf')\n",
        "poly_model = SVC(kernel='poly')\n",
        "\n",
        "# Навчання моделей на тренувальних даних\n",
        "linear_model.fit(X_train, y_train)\n",
        "rbf_model.fit(X_train, y_train)\n",
        "poly_model.fit(X_train, y_train)\n",
        "\n",
        "\n",
        "print(\"Точність моделі з лінійною функцією ядра:\")\n",
        "print(\"Score at the training set: {:.3f}\".format(linear_model.score(X_train, y_train)))\n",
        "print(\"Score at the test set: {:.3f}\".format(linear_model.score(X_test, y_test)))\n",
        "print()\n",
        "\n",
        "print(\"Точність моделі з радіально-базисною функцією ядра:\")\n",
        "print(\"Score at the training set: {:.3f}\".format(rbf_model.score(X_train, y_train)))\n",
        "print(\"Score at the test set: {:.3f}\".format(rbf_model.score(X_test, y_test)))\n",
        "print()\n",
        "\n",
        "print(\"Точність моделі з поліноміальною функцією ядра:\")\n",
        "print(\"Score at the training set: {:.3f}\".format(poly_model.score(X_train, y_train)))\n",
        "print(\"Score at the test set: {:.3f}\".format(poly_model.score(X_test, y_test)))"
      ],
      "metadata": {
        "colab": {
          "base_uri": "https://localhost:8080/"
        },
        "id": "cLemGWHIfPp8",
        "outputId": "c8c193c7-6081-44a3-83dc-2e92724a991e"
      },
      "execution_count": 25,
      "outputs": [
        {
          "output_type": "stream",
          "name": "stdout",
          "text": [
            "Точність моделі з лінійною функцією ядра:\n",
            "Score at the training set: 0.957\n",
            "Score at the test set: 0.962\n",
            "\n",
            "Точність моделі з радіально-базисною функцією ядра:\n",
            "Score at the training set: 0.937\n",
            "Score at the test set: 0.945\n",
            "\n",
            "Точність моделі з поліноміальною функцією ядра:\n",
            "Score at the training set: 0.937\n",
            "Score at the test set: 0.945\n"
          ]
        }
      ]
    },
    {
      "cell_type": "code",
      "source": [
        "best_model = None\n",
        "best_accuracy = 0\n",
        "best_C = None\n",
        "for C_value in [1, 10, 100]:\n",
        "    svm = SVC(kernel='linear', C=C_value)\n",
        "    svm.fit(X_train, y_train)\n",
        "    y_pred = svm.predict(X_test)\n",
        "    acc = accuracy_score(y_test, y_pred)\n",
        "    if acc > best_accuracy:\n",
        "        best_accuracy = acc\n",
        "        best_model = svm\n",
        "        best_C = C_value\n",
        "\n",
        "print(f\"Best C value: {best_C}\")\n",
        "print(\"Accuracy for the best model:\", best_accuracy)\n",
        "print(\"Classification report for the best model:\\n\", classification_report(y_test, best_model.predict(X_test)))"
      ],
      "metadata": {
        "colab": {
          "base_uri": "https://localhost:8080/"
        },
        "id": "NPE-dyXgkuZZ",
        "outputId": "ed1ee373-3d4b-40be-b2c1-14c0023fb8fa"
      },
      "execution_count": 26,
      "outputs": [
        {
          "output_type": "stream",
          "name": "stdout",
          "text": [
            "Best C value: 10\n",
            "Accuracy for the best model: 0.9633333333333334\n",
            "Classification report for the best model:\n",
            "               precision    recall  f1-score   support\n",
            "\n",
            "           0       0.97      0.99      0.98      2835\n",
            "           1       0.78      0.46      0.58       165\n",
            "\n",
            "    accuracy                           0.96      3000\n",
            "   macro avg       0.88      0.73      0.78      3000\n",
            "weighted avg       0.96      0.96      0.96      3000\n",
            "\n"
          ]
        }
      ]
    },
    {
      "cell_type": "code",
      "source": [
        "best_model = None\n",
        "best_accuracy = 0\n",
        "best_C = None\n",
        "for C_value in [1, 10, 100]:\n",
        "    svm = SVC(kernel='rbf', C=C_value)\n",
        "    svm.fit(X_train, y_train)\n",
        "    y_pred = svm.predict(X_test)\n",
        "    acc = accuracy_score(y_test, y_pred)\n",
        "    if acc > best_accuracy:\n",
        "        best_accuracy = acc\n",
        "        best_model = svm\n",
        "        best_C = C_value\n",
        "\n",
        "print(f\"Best C value: {best_C}\")\n",
        "print(\"Accuracy for the best model:\", best_accuracy)\n",
        "print(\"Classification report for the best model:\\n\", classification_report(y_test, best_model.predict(X_test)))"
      ],
      "metadata": {
        "colab": {
          "base_uri": "https://localhost:8080/"
        },
        "id": "glCdOftFk7GH",
        "outputId": "36a4833c-3f21-4f73-cddd-ce24671397da"
      },
      "execution_count": 27,
      "outputs": [
        {
          "output_type": "stream",
          "name": "stdout",
          "text": [
            "Best C value: 100\n",
            "Accuracy for the best model: 0.9586666666666667\n",
            "Classification report for the best model:\n",
            "               precision    recall  f1-score   support\n",
            "\n",
            "           0       0.96      1.00      0.98      2835\n",
            "           1       0.92      0.27      0.42       165\n",
            "\n",
            "    accuracy                           0.96      3000\n",
            "   macro avg       0.94      0.64      0.70      3000\n",
            "weighted avg       0.96      0.96      0.95      3000\n",
            "\n"
          ]
        }
      ]
    },
    {
      "cell_type": "code",
      "source": [
        "best_model = None\n",
        "best_accuracy = 0\n",
        "best_C = None\n",
        "for C_value in [1, 10, 100]:\n",
        "    svm = SVC(kernel='poly', C=C_value)\n",
        "    svm.fit(X_train, y_train)\n",
        "    y_pred = svm.predict(X_test)\n",
        "    acc = accuracy_score(y_test, y_pred)\n",
        "    if acc > best_accuracy:\n",
        "        best_accuracy = acc\n",
        "        best_model = svm\n",
        "        best_C = C_value\n",
        "\n",
        "print(f\"Best C value: {best_C}\")\n",
        "print(\"Accuracy for the best model:\", best_accuracy)\n",
        "print(\"Classification report for the best model:\\n\", classification_report(y_test, best_model.predict(X_test)))"
      ],
      "metadata": {
        "colab": {
          "base_uri": "https://localhost:8080/"
        },
        "id": "VEWYgNwOlA8d",
        "outputId": "1fd06052-2cb5-4e65-e691-d25a090c71d8"
      },
      "execution_count": 28,
      "outputs": [
        {
          "output_type": "stream",
          "name": "stdout",
          "text": [
            "Best C value: 100\n",
            "Accuracy for the best model: 0.952\n",
            "Classification report for the best model:\n",
            "               precision    recall  f1-score   support\n",
            "\n",
            "           0       0.95      1.00      0.98      2835\n",
            "           1       0.82      0.16      0.27       165\n",
            "\n",
            "    accuracy                           0.95      3000\n",
            "   macro avg       0.89      0.58      0.62      3000\n",
            "weighted avg       0.95      0.95      0.94      3000\n",
            "\n"
          ]
        }
      ]
    }
  ]
}