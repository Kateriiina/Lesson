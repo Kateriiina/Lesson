{
  "nbformat": 4,
  "nbformat_minor": 0,
  "metadata": {
    "colab": {
      "provenance": [],
      "authorship_tag": "ABX9TyPMSejobBlpoO3W8EpPzNgo",
      "include_colab_link": true
    },
    "kernelspec": {
      "name": "python3",
      "display_name": "Python 3"
    },
    "language_info": {
      "name": "python"
    }
  },
  "cells": [
    {
      "cell_type": "markdown",
      "metadata": {
        "id": "view-in-github",
        "colab_type": "text"
      },
      "source": [
        "<a href=\"https://colab.research.google.com/github/Kateriiina/Lesson/blob/main/%D0%9F%D0%B5%D1%80%D0%B2%D0%B0%D1%8F_%D1%87%D0%B0%D1%81%D1%82%D1%8C_%D0%BB%D0%B0%D0%B1_2.ipynb\" target=\"_parent\"><img src=\"https://colab.research.google.com/assets/colab-badge.svg\" alt=\"Open In Colab\"/></a>"
      ]
    },
    {
      "cell_type": "code",
      "execution_count": 1,
      "metadata": {
        "id": "ooKpTWqRYqtS"
      },
      "outputs": [],
      "source": [
        "import numpy as np\n",
        "import pandas as pd\n",
        "import matplotlib.pyplot as plt\n",
        "\n",
        "from sklearn.model_selection import train_test_split\n",
        "from sklearn.linear_model import LogisticRegression\n",
        "from sklearn.neighbors import KNeighborsClassifier\n",
        "from sklearn.naive_bayes import GaussianNB, MultinomialNB\n",
        "\n",
        "from sklearn.datasets import load_iris"
      ]
    },
    {
      "cell_type": "code",
      "source": [
        "# Завантаження даних\n",
        "iris = load_iris()\n",
        "X = iris.data\n",
        "y = iris.target\n",
        "\n",
        "# Розділення даних на тренувальний та тестовий набори\n",
        "X_train, X_test, y_train, y_test = train_test_split(X, y, test_size=0.25, random_state=42)"
      ],
      "metadata": {
        "id": "pZX8HW7IYuJa"
      },
      "execution_count": 2,
      "outputs": []
    },
    {
      "cell_type": "code",
      "source": [
        "iris.target"
      ],
      "metadata": {
        "colab": {
          "base_uri": "https://localhost:8080/"
        },
        "id": "Uj9bZ8gjYwn5",
        "outputId": "2510321b-e071-47cf-cb06-bc7647d19ad4"
      },
      "execution_count": 3,
      "outputs": [
        {
          "output_type": "execute_result",
          "data": {
            "text/plain": [
              "array([0, 0, 0, 0, 0, 0, 0, 0, 0, 0, 0, 0, 0, 0, 0, 0, 0, 0, 0, 0, 0, 0,\n",
              "       0, 0, 0, 0, 0, 0, 0, 0, 0, 0, 0, 0, 0, 0, 0, 0, 0, 0, 0, 0, 0, 0,\n",
              "       0, 0, 0, 0, 0, 0, 1, 1, 1, 1, 1, 1, 1, 1, 1, 1, 1, 1, 1, 1, 1, 1,\n",
              "       1, 1, 1, 1, 1, 1, 1, 1, 1, 1, 1, 1, 1, 1, 1, 1, 1, 1, 1, 1, 1, 1,\n",
              "       1, 1, 1, 1, 1, 1, 1, 1, 1, 1, 1, 1, 2, 2, 2, 2, 2, 2, 2, 2, 2, 2,\n",
              "       2, 2, 2, 2, 2, 2, 2, 2, 2, 2, 2, 2, 2, 2, 2, 2, 2, 2, 2, 2, 2, 2,\n",
              "       2, 2, 2, 2, 2, 2, 2, 2, 2, 2, 2, 2, 2, 2, 2, 2, 2, 2])"
            ]
          },
          "metadata": {},
          "execution_count": 3
        }
      ]
    },
    {
      "cell_type": "code",
      "source": [
        "from sklearn.metrics import classification_report\n",
        "from sklearn.metrics import confusion_matrix\n",
        "\n",
        "# Наївний байєсівський класифікатор - гаусівський\n",
        "gnb = GaussianNB()\n",
        "\n",
        "#тренування моделі\n",
        "gnb.fit(X_train, y_train)\n",
        "\n",
        "# Прогнозування класів для тестового набору\n",
        "y_pred = gnb.predict(X_test)\n",
        "\n",
        "print(\"Score at the training set: {:.3f}\".format(gnb.score(X_train, y_train)))\n",
        "print(\"Score at the training set: {:.3f}\".format(gnb.score(X_test, y_test)))\n",
        "\n",
        "print(classification_report(y_test, y_pred, target_names = iris.target_names))\n",
        "print(confusion_matrix(y_test, y_pred))"
      ],
      "metadata": {
        "colab": {
          "base_uri": "https://localhost:8080/"
        },
        "id": "5bykiTOqYyhp",
        "outputId": "7a8fd2d1-d6b2-420e-9104-cf70f0489dd8"
      },
      "execution_count": 4,
      "outputs": [
        {
          "output_type": "stream",
          "name": "stdout",
          "text": [
            "Score at the training set: 0.946\n",
            "Score at the training set: 1.000\n",
            "              precision    recall  f1-score   support\n",
            "\n",
            "      setosa       1.00      1.00      1.00        15\n",
            "  versicolor       1.00      1.00      1.00        11\n",
            "   virginica       1.00      1.00      1.00        12\n",
            "\n",
            "    accuracy                           1.00        38\n",
            "   macro avg       1.00      1.00      1.00        38\n",
            "weighted avg       1.00      1.00      1.00        38\n",
            "\n",
            "[[15  0  0]\n",
            " [ 0 11  0]\n",
            " [ 0  0 12]]\n"
          ]
        }
      ]
    },
    {
      "cell_type": "code",
      "source": [
        "from sklearn.metrics import classification_report\n",
        "from sklearn.metrics import confusion_matrix\n",
        "\n",
        "# Наївний поліноміальний класифікатор\n",
        "gnb_M = MultinomialNB()\n",
        "\n",
        "#тренування моделі\n",
        "gnb_M.fit(X_train, y_train)\n",
        "\n",
        "# Прогнозування класів для тестового набору\n",
        "y_pred_M = gnb_M.predict(X_test)\n",
        "\n",
        "print(\"Score at the training set: {:.3f}\".format(gnb_M.score(X_train, y_train)))\n",
        "print(\"Score at the training set: {:.3f}\".format(gnb_M.score(X_test, y_test)))\n",
        "\n",
        "print(classification_report(y_test, y_pred_M, target_names = iris.target_names))\n",
        "print(confusion_matrix(y_test, y_pred_M))"
      ],
      "metadata": {
        "colab": {
          "base_uri": "https://localhost:8080/"
        },
        "id": "ub6I95j8Yyic",
        "outputId": "d1e5c75f-c8dd-41c1-f5d7-02547ef006e6"
      },
      "execution_count": 5,
      "outputs": [
        {
          "output_type": "stream",
          "name": "stdout",
          "text": [
            "Score at the training set: 0.964\n",
            "Score at the training set: 0.974\n",
            "              precision    recall  f1-score   support\n",
            "\n",
            "      setosa       1.00      1.00      1.00        15\n",
            "  versicolor       0.92      1.00      0.96        11\n",
            "   virginica       1.00      0.92      0.96        12\n",
            "\n",
            "    accuracy                           0.97        38\n",
            "   macro avg       0.97      0.97      0.97        38\n",
            "weighted avg       0.98      0.97      0.97        38\n",
            "\n",
            "[[15  0  0]\n",
            " [ 0 11  0]\n",
            " [ 0  1 11]]\n"
          ]
        }
      ]
    },
    {
      "cell_type": "code",
      "source": [
        "#Логістична регресія при C = 0.1\n",
        "lr1 = LogisticRegression(C = 0.1, max_iter = 95)\n",
        "lr1.fit(X_train, y_train)\n",
        "\n",
        "print(\"Логістична регресія при C = 0.1\")\n",
        "print(\"Score at the training set: {:.3f}\".format(lr1.score(X_train, y_train)))\n",
        "print(\"Score at the training set: {:.3f}\".format(lr1.score(X_test, y_test)))\n",
        "print()\n",
        "\n",
        "#Логістична регресія при C = 0.5\n",
        "lr2 = LogisticRegression(C = 0.5, max_iter = 95)\n",
        "lr2.fit(X_train, y_train)\n",
        "\n",
        "print(\"Логістична регресія при C = 0.5\")\n",
        "print(\"Score at the training set: {:.3f}\".format(lr2.score(X_train, y_train)))\n",
        "print(\"Score at the training set: {:.3f}\".format(lr2.score(X_test, y_test)))\n",
        "print()\n",
        "\n",
        "#Логістична регресія при C = 1.0\n",
        "lr3 = LogisticRegression(C = 1.0, max_iter = 95)\n",
        "lr3.fit(X_train, y_train)\n",
        "\n",
        "print(\"Логістична регресія при C = 1.0\")\n",
        "print(\"Score at the training set: {:.3f}\".format(lr3.score(X_train, y_train)))\n",
        "print(\"Score at the training set: {:.3f}\".format(lr3.score(X_test, y_test)))\n",
        "print()\n",
        "\n",
        "#Логістична регресія при C = 10.0\n",
        "lr4 = LogisticRegression(C = 10.0, max_iter = 95)\n",
        "lr4.fit(X_train, y_train)\n",
        "\n",
        "print(\"Логістична регресія при C = 10.0\")\n",
        "print(\"Score at the training set: {:.3f}\".format(lr4.score(X_train, y_train)))\n",
        "print(\"Score at the training set: {:.3f}\".format(lr4.score(X_test, y_test)))\n",
        "print()"
      ],
      "metadata": {
        "colab": {
          "base_uri": "https://localhost:8080/"
        },
        "id": "4BxHJgsMZ_bl",
        "outputId": "b2c522c8-be45-45e8-a136-415ebf60861d"
      },
      "execution_count": 6,
      "outputs": [
        {
          "output_type": "stream",
          "name": "stdout",
          "text": [
            "Логістична регресія при C = 0.1\n",
            "Score at the training set: 0.946\n",
            "Score at the training set: 1.000\n",
            "\n",
            "Логістична регресія при C = 0.5\n",
            "Score at the training set: 0.964\n",
            "Score at the training set: 1.000\n",
            "\n",
            "Логістична регресія при C = 1.0\n",
            "Score at the training set: 0.964\n",
            "Score at the training set: 1.000\n",
            "\n",
            "Логістична регресія при C = 10.0\n",
            "Score at the training set: 0.991\n",
            "Score at the training set: 1.000\n",
            "\n"
          ]
        },
        {
          "output_type": "stream",
          "name": "stderr",
          "text": [
            "/usr/local/lib/python3.10/dist-packages/sklearn/linear_model/_logistic.py:458: ConvergenceWarning: lbfgs failed to converge (status=1):\n",
            "STOP: TOTAL NO. of ITERATIONS REACHED LIMIT.\n",
            "\n",
            "Increase the number of iterations (max_iter) or scale the data as shown in:\n",
            "    https://scikit-learn.org/stable/modules/preprocessing.html\n",
            "Please also refer to the documentation for alternative solver options:\n",
            "    https://scikit-learn.org/stable/modules/linear_model.html#logistic-regression\n",
            "  n_iter_i = _check_optimize_result(\n",
            "/usr/local/lib/python3.10/dist-packages/sklearn/linear_model/_logistic.py:458: ConvergenceWarning: lbfgs failed to converge (status=1):\n",
            "STOP: TOTAL NO. of ITERATIONS REACHED LIMIT.\n",
            "\n",
            "Increase the number of iterations (max_iter) or scale the data as shown in:\n",
            "    https://scikit-learn.org/stable/modules/preprocessing.html\n",
            "Please also refer to the documentation for alternative solver options:\n",
            "    https://scikit-learn.org/stable/modules/linear_model.html#logistic-regression\n",
            "  n_iter_i = _check_optimize_result(\n"
          ]
        }
      ]
    },
    {
      "cell_type": "code",
      "source": [
        "# Прогнозування класів для тестового набору\n",
        "y_pred1 = lr1.predict(X_test)\n",
        "\n",
        "print(classification_report(y_test, y_pred, target_names = iris.target_names))\n",
        "print(confusion_matrix(y_test, y_pred1))\n",
        "print()"
      ],
      "metadata": {
        "colab": {
          "base_uri": "https://localhost:8080/"
        },
        "id": "DxQAfacwaPPI",
        "outputId": "7a9a01f3-8ae9-42bc-adfb-44aaf20fce38"
      },
      "execution_count": 10,
      "outputs": [
        {
          "output_type": "stream",
          "name": "stdout",
          "text": [
            "              precision    recall  f1-score   support\n",
            "\n",
            "      setosa       1.00      1.00      1.00        15\n",
            "  versicolor       1.00      1.00      1.00        11\n",
            "   virginica       1.00      1.00      1.00        12\n",
            "\n",
            "    accuracy                           1.00        38\n",
            "   macro avg       1.00      1.00      1.00        38\n",
            "weighted avg       1.00      1.00      1.00        38\n",
            "\n",
            "[[15  0  0]\n",
            " [ 0 11  0]\n",
            " [ 0  0 12]]\n",
            "\n"
          ]
        }
      ]
    },
    {
      "cell_type": "code",
      "source": [
        "# k-найближчих сусідів - euclidean, n = 1\n",
        "knn2 = KNeighborsClassifier(n_neighbors = 1, metric='euclidean')\n",
        "knn2.fit(X_train, y_train)\n",
        "\n",
        "print(\"k-найближчих сусідів - euclidean, n = 1\")\n",
        "print(\"Score at the training set: {:.3f}\".format(knn2.score(X_train, y_train)))\n",
        "print(\"Score at the training set: {:.3f}\".format(knn2.score(X_test, y_test)))\n",
        "print()\n",
        "\n",
        "# k-найближчих сусідів - chebyshev, n = 1\n",
        "knn3 = KNeighborsClassifier(n_neighbors=1, metric='chebyshev')\n",
        "knn3.fit(X_train, y_train)\n",
        "\n",
        "print(\"k-найближчих сусідів - chebyshev, n = 1\")\n",
        "print(\"Score at the training set: {:.3f}\".format(knn3.score(X_train, y_train)))\n",
        "print(\"Score at the training set: {:.3f}\".format(knn3.score(X_test, y_test)))\n",
        "print()\n",
        "\n",
        "# k-найближчих сусідів - euclidean, n = 2\n",
        "knn4 = KNeighborsClassifier(n_neighbors=2, metric='euclidean')\n",
        "knn4.fit(X_train, y_train)\n",
        "\n",
        "print(\"k-найближчих сусідів - euclidean, n = 2\")\n",
        "print(\"Score at the training set: {:.3f}\".format(knn4.score(X_train, y_train)))\n",
        "print(\"Score at the training set: {:.3f}\".format(knn4.score(X_test, y_test)))\n",
        "print()\n",
        "\n",
        "# k-найближчих сусідів - euclidean, n = 3\n",
        "knn5 = KNeighborsClassifier(n_neighbors=3, metric='euclidean')\n",
        "knn5.fit(X_train, y_train)\n",
        "\n",
        "print(\"k-найближчих сусідів - euclidean, n = 3\")\n",
        "print(\"Score at the training set: {:.3f}\".format(knn5.score(X_train, y_train)))\n",
        "print(\"Score at the training set: {:.3f}\".format(knn5.score(X_test, y_test)))\n",
        "print()\n",
        "\n",
        "# k-найближчих сусідів - euclidean, n = 4\n",
        "knn6 = KNeighborsClassifier(n_neighbors=4, metric='euclidean')\n",
        "knn6.fit(X_train, y_train)\n",
        "\n",
        "print(\"k-найближчих сусідів - euclidean, n = 4\")\n",
        "print(\"Score at the training set: {:.3f}\".format(knn6.score(X_train, y_train)))\n",
        "print(\"Score at the training set: {:.3f}\".format(knn6.score(X_test, y_test)))\n",
        "print()\n",
        "\n",
        "# k-найближчих сусідів - euclidean, n = 5\n",
        "knn7 = KNeighborsClassifier(n_neighbors=5, metric='euclidean')\n",
        "knn7.fit(X_train, y_train)\n",
        "\n",
        "print(\"k-найближчих сусідів - euclidean, n = 5\")\n",
        "print(\"Score at the training set: {:.3f}\".format(knn7.score(X_train, y_train)))\n",
        "print(\"Score at the training set: {:.3f}\".format(knn7.score(X_test, y_test)))\n",
        "print()\n",
        "\n",
        "# k-найближчих сусідів - euclidean, n = 6\n",
        "knn8 = KNeighborsClassifier(n_neighbors=6, metric='euclidean')\n",
        "knn8.fit(X_train, y_train)\n",
        "\n",
        "print(\"k-найближчих сусідів - euclidean, n = 6\")\n",
        "print(\"Score at the training set: {:.3f}\".format(knn8.score(X_train, y_train)))\n",
        "print(\"Score at the training set: {:.3f}\".format(knn8.score(X_test, y_test)))\n",
        "print()\n",
        "\n",
        "# k-найближчих сусідів - euclidean, n = 7\n",
        "knn9 = KNeighborsClassifier(n_neighbors=7, metric='euclidean')\n",
        "knn9.fit(X_train, y_train)\n",
        "\n",
        "print(\"k-найближчих сусідів - euclidean, n = 7\")\n",
        "print(\"Score at the training set: {:.3f}\".format(knn9.score(X_train, y_train)))\n",
        "print(\"Score at the training set: {:.3f}\".format(knn9.score(X_test, y_test)))"
      ],
      "metadata": {
        "colab": {
          "base_uri": "https://localhost:8080/"
        },
        "id": "6IpTZPOtaPP_",
        "outputId": "d315a1c2-a2ae-4bfa-9359-e30e44815e08"
      },
      "execution_count": 8,
      "outputs": [
        {
          "output_type": "stream",
          "name": "stdout",
          "text": [
            "k-найближчих сусідів - euclidean, n = 1\n",
            "Score at the training set: 1.000\n",
            "Score at the training set: 1.000\n",
            "\n",
            "k-найближчих сусідів - chebyshev, n = 1\n",
            "Score at the training set: 1.000\n",
            "Score at the training set: 1.000\n",
            "\n",
            "k-найближчих сусідів - euclidean, n = 2\n",
            "Score at the training set: 0.964\n",
            "Score at the training set: 1.000\n",
            "\n",
            "k-найближчих сусідів - euclidean, n = 3\n",
            "Score at the training set: 0.946\n",
            "Score at the training set: 1.000\n",
            "\n",
            "k-найближчих сусідів - euclidean, n = 4\n",
            "Score at the training set: 0.964\n",
            "Score at the training set: 1.000\n",
            "\n",
            "k-найближчих сусідів - euclidean, n = 5\n",
            "Score at the training set: 0.964\n",
            "Score at the training set: 1.000\n",
            "\n",
            "k-найближчих сусідів - euclidean, n = 6\n",
            "Score at the training set: 0.964\n",
            "Score at the training set: 1.000\n",
            "\n",
            "k-найближчих сусідів - euclidean, n = 7\n",
            "Score at the training set: 0.973\n",
            "Score at the training set: 1.000\n"
          ]
        }
      ]
    },
    {
      "cell_type": "code",
      "source": [
        "# Прогнозування класів для тестового набору\n",
        "knn2_pred = knn2.predict(X_test)\n",
        "\n",
        "print(classification_report(y_test, y_pred, target_names = iris.target_names))\n",
        "print(confusion_matrix(y_test, knn2_pred))"
      ],
      "metadata": {
        "colab": {
          "base_uri": "https://localhost:8080/"
        },
        "id": "yRy_32Zja7Gz",
        "outputId": "9089dcd1-5131-48a5-99f5-662dd6ab0c62"
      },
      "execution_count": 11,
      "outputs": [
        {
          "output_type": "stream",
          "name": "stdout",
          "text": [
            "              precision    recall  f1-score   support\n",
            "\n",
            "      setosa       1.00      1.00      1.00        15\n",
            "  versicolor       1.00      1.00      1.00        11\n",
            "   virginica       1.00      1.00      1.00        12\n",
            "\n",
            "    accuracy                           1.00        38\n",
            "   macro avg       1.00      1.00      1.00        38\n",
            "weighted avg       1.00      1.00      1.00        38\n",
            "\n",
            "[[15  0  0]\n",
            " [ 0 11  0]\n",
            " [ 0  0 12]]\n"
          ]
        }
      ]
    }
  ]
}