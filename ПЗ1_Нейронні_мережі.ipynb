{
  "nbformat": 4,
  "nbformat_minor": 0,
  "metadata": {
    "colab": {
      "provenance": [],
      "authorship_tag": "ABX9TyPqDale0K33wX/vx/xETOmr",
      "include_colab_link": true
    },
    "kernelspec": {
      "name": "python3",
      "display_name": "Python 3"
    },
    "language_info": {
      "name": "python"
    }
  },
  "cells": [
    {
      "cell_type": "markdown",
      "metadata": {
        "id": "view-in-github",
        "colab_type": "text"
      },
      "source": [
        "<a href=\"https://colab.research.google.com/github/Kateriiina/Lesson/blob/main/%D0%9F%D0%971_%D0%9D%D0%B5%D0%B9%D1%80%D0%BE%D0%BD%D0%BD%D1%96_%D0%BC%D0%B5%D1%80%D0%B5%D0%B6%D1%96.ipynb\" target=\"_parent\"><img src=\"https://colab.research.google.com/assets/colab-badge.svg\" alt=\"Open In Colab\"/></a>"
      ]
    },
    {
      "cell_type": "code",
      "execution_count": 1,
      "metadata": {
        "id": "9B_FxVyWesC2"
      },
      "outputs": [],
      "source": [
        "import numpy as np"
      ]
    },
    {
      "cell_type": "code",
      "source": [
        "# Сигмоїдна функція для активації нейрону\n",
        "def sigmoid(x):\n",
        "    return 1 / (1 + np.exp(-x))"
      ],
      "metadata": {
        "id": "B_WXvBgZewuI"
      },
      "execution_count": 2,
      "outputs": []
    },
    {
      "cell_type": "code",
      "source": [
        "# Похідна сигмоїдної функції\n",
        "def sigmoid_derivative(x):\n",
        "    return x * (1 - x)"
      ],
      "metadata": {
        "id": "viPoGdFfeziP"
      },
      "execution_count": 3,
      "outputs": []
    },
    {
      "cell_type": "code",
      "source": [
        "# Клас нейронної мережі\n",
        "class NeuralNetwork:\n",
        "    def __init__(self, input_size):\n",
        "        # Ініціалізуємо ваги з випадковими значеннями\n",
        "        self.weights = 2 * np.random.random((input_size, 1)) - 1\n",
        "\n",
        "    def train(self, inputs, outputs, num_epochs):\n",
        "        for epoch in range(num_epochs):\n",
        "            # Пропускаємо дані через нейрон\n",
        "            output = self.predict(inputs)\n",
        "\n",
        "            # Розраховуємо помилку\n",
        "            error = outputs - output\n",
        "\n",
        "            # Коригуємо ваги на основі помилки і градієнта сигмоїдної функції\n",
        "            adjustment = np.dot(inputs.T, error * sigmoid_derivative(output))\n",
        "            self.weights += adjustment\n",
        "\n",
        "    def predict(self, inputs):\n",
        "        # Прогнозуємо результат на основі вхідних даних\n",
        "        return sigmoid(np.dot(inputs, self.weights))"
      ],
      "metadata": {
        "id": "yWj0seoCe4kA"
      },
      "execution_count": 5,
      "outputs": []
    },
    {
      "cell_type": "code",
      "source": [
        "if __name__ == \"__main__\":\n",
        "    # Ініціалізуємо нейронну мережу з трьома входами (a, b, c)\n",
        "    neural_network = NeuralNetwork(input_size=3)\n",
        "\n",
        "    # Тренуємо нейронну мережу для функції \"Штрих Шеффера\"\n",
        "    training_inputs = np.array([[0, 0, 0], [0, 0, 1], [0, 1, 0], [0, 1, 1],\n",
        "                                [1, 0, 0], [1, 0, 1], [1, 1, 0], [1, 1, 1]])\n",
        "    training_outputs = np.array([[1, 1, 1, 0, 1, 0, 1, 1]]).T\n",
        "\n",
        "    neural_network.train(training_inputs, training_outputs, num_epochs=10000)\n",
        "\n",
        "    # Перевірка результату для нового входу [1, 0, 0]\n",
        "    new_input = np.array([1, 0, 0])\n",
        "    result = neural_network.predict(new_input)\n",
        "    print(f\"Результат для входу [1, 0, 0]: {result[0]}\")"
      ],
      "metadata": {
        "colab": {
          "base_uri": "https://localhost:8080/"
        },
        "id": "lil5f1_FfPIr",
        "outputId": "eb1e5604-2605-4e32-ddff-dbc48db6195e"
      },
      "execution_count": 6,
      "outputs": [
        {
          "output_type": "stream",
          "name": "stdout",
          "text": [
            "Результат для входу [1, 0, 0]: 0.9996529191089236\n"
          ]
        }
      ]
    },
    {
      "cell_type": "code",
      "source": [],
      "metadata": {
        "id": "yz6FMEYcfAO_"
      },
      "execution_count": null,
      "outputs": []
    }
  ]
}