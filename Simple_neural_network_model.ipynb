{
  "nbformat": 4,
  "nbformat_minor": 0,
  "metadata": {
    "colab": {
      "provenance": [],
      "authorship_tag": "ABX9TyNpOXsC0+v8pUBmOduZz1KK",
      "include_colab_link": true
    },
    "kernelspec": {
      "name": "python3",
      "display_name": "Python 3"
    },
    "language_info": {
      "name": "python"
    }
  },
  "cells": [
    {
      "cell_type": "markdown",
      "metadata": {
        "id": "view-in-github",
        "colab_type": "text"
      },
      "source": [
        "<a href=\"https://colab.research.google.com/github/Kateriiina/Lesson/blob/main/Simple_neural_network_model.ipynb\" target=\"_parent\"><img src=\"https://colab.research.google.com/assets/colab-badge.svg\" alt=\"Open In Colab\"/></a>"
      ]
    },
    {
      "cell_type": "code",
      "execution_count": null,
      "metadata": {
        "id": "oajXHr37siXs"
      },
      "outputs": [],
      "source": [
        "import numpy as np"
      ]
    },
    {
      "cell_type": "code",
      "source": [
        "def act(x):\n",
        "  return 0.0 if x < 0.5 else 1.0"
      ],
      "metadata": {
        "id": "p6Un5pxtswgH"
      },
      "execution_count": null,
      "outputs": []
    },
    {
      "cell_type": "code",
      "source": [
        "def go(house, rock, attr):\n",
        "  x = np.array([house, rock, attr])\n",
        "  w11 = [0.3, 0.3, 0.0]\n",
        "  w12 = [0.4, -0.5, 1.0]\n",
        "  weight1 = np.array([w11, w12])\n",
        "  weight2 = np.array([-1.0, 1.0])\n",
        "\n",
        "  sum_hidden = np.dot(weight1, x)\n",
        "  print(\"Values of sums on neurons of the hidden layer \"+str(sum_hidden))\n",
        "\n",
        "  out_hidden = np.array([act(x) for x in sum_hidden])\n",
        "  print(\"Values on outputs of hidden layer neurons \"+str(out_hidden))\n",
        "\n",
        "  sum_end = np.dot(weight2, out_hidden)\n",
        "  y = act(sum_end)\n",
        "  print(\"Output values of neural connection \"+str(y))\n",
        "\n",
        "  return y"
      ],
      "metadata": {
        "id": "P_fsp3i-s-dr"
      },
      "execution_count": 15,
      "outputs": []
    },
    {
      "cell_type": "code",
      "source": [
        "house = 1.0\n",
        "rock = 0.0\n",
        "attr = 1.0"
      ],
      "metadata": {
        "id": "Ve6ZGxUDwSVI"
      },
      "execution_count": 4,
      "outputs": []
    },
    {
      "cell_type": "code",
      "source": [
        "res = go(house, rock, attr)\n",
        "if res == 1.0:\n",
        "  print(\"You're an engaging person\")\n",
        "else:\n",
        "  print(\"Let's just not hang out\")\n"
      ],
      "metadata": {
        "colab": {
          "base_uri": "https://localhost:8080/"
        },
        "id": "vFY9h5gJxUTD",
        "outputId": "01b6d971-4d98-4e0f-814e-1f3989c8e2da"
      },
      "execution_count": 16,
      "outputs": [
        {
          "output_type": "stream",
          "name": "stdout",
          "text": [
            "Values of sums on neurons of the hidden layer [0.3 1.4]\n",
            "Values on outputs of hidden layer neurons [0 1]\n",
            "Output values of neural connection 1\n",
            "You're an engaging person\n"
          ]
        }
      ]
    }
  ]
}