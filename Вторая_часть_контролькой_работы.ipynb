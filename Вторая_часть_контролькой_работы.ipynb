{
  "nbformat": 4,
  "nbformat_minor": 0,
  "metadata": {
    "colab": {
      "provenance": [],
      "authorship_tag": "ABX9TyNcbnz9bjADweuFI0YZS3oN",
      "include_colab_link": true
    },
    "kernelspec": {
      "name": "python3",
      "display_name": "Python 3"
    },
    "language_info": {
      "name": "python"
    }
  },
  "cells": [
    {
      "cell_type": "markdown",
      "metadata": {
        "id": "view-in-github",
        "colab_type": "text"
      },
      "source": [
        "<a href=\"https://colab.research.google.com/github/Kateriiina/Lesson/blob/main/%D0%92%D1%82%D0%BE%D1%80%D0%B0%D1%8F_%D1%87%D0%B0%D1%81%D1%82%D1%8C_%D0%BA%D0%BE%D0%BD%D1%82%D1%80%D0%BE%D0%BB%D1%8C%D0%BA%D0%BE%D0%B9_%D1%80%D0%B0%D0%B1%D0%BE%D1%82%D1%8B.ipynb\" target=\"_parent\"><img src=\"https://colab.research.google.com/assets/colab-badge.svg\" alt=\"Open In Colab\"/></a>"
      ]
    },
    {
      "cell_type": "code",
      "execution_count": null,
      "metadata": {
        "id": "TgRiQXGmmFYm"
      },
      "outputs": [],
      "source": [
        "import numpy as np\n",
        "import pandas as pd\n",
        "import matplotlib.pyplot as plt\n",
        "from sklearn.datasets import load_diabetes\n",
        "from sklearn.model_selection import train_test_split\n",
        "from sklearn.linear_model import LinearRegression\n",
        "from sklearn.model_selection import cross_val_score\n",
        "\n",
        "# Завантаження даних\n",
        "diabetes = load_diabetes()\n",
        "X = diabetes.data\n",
        "y = diabetes.target\n",
        "\n",
        "# Розділення даних на тренувальний та тестовий набори\n",
        "X_train, X_test, y_train, y_test = train_test_split(X, y, test_size=0.25, random_state=42)\n",
        "\n",
        "# LinearRegression\n",
        "print(\"LinearRegression\")\n",
        "\n",
        "lr_model = LinearRegression().fit(X_train, y_train)\n",
        "print(\"Score at the training set: {:.3f}\".format(lr_model.score(X_train, y_train)))\n",
        "print(\"Score at the test set: {:.3f}\".format(lr_model.score(X_test, y_test)))\n",
        "\n",
        "print()\n",
        "\n",
        "print(\"lr_model.coef_: {}\".format(lr_model.coef_))\n",
        "print(\"lr_model.intercept_: {}\".format(lr_model.intercept_))\n",
        "\n",
        "# Візуалізація коефіцієнтів Ridge моделей\n",
        "fig, ax = plt.subplots()\n",
        "ax.plot(lr_model.coef_, marker='o', label=\"LinearRegression\")\n",
        "ridge_model = Ridge(alpha=best_ridge_alpha)\n",
        "ridge_model.fit(X_train, y_train)\n",
        "ax.set_xticks(range(len(X_train.columns)))\n",
        "ax.set_xticklabels(X_train.columns, rotation=45)\n",
        "ax.legend()\n",
        "plt.show()"
      ]
    }
  ]
}